{
 "cells": [
  {
   "cell_type": "markdown",
   "metadata": {},
   "source": [
    "# Language Model Analysis"
   ]
  },
  {
   "cell_type": "markdown",
   "metadata": {},
   "source": [
    "### Model Architecture"
   ]
  },
  {
   "cell_type": "code",
   "execution_count": 1,
   "metadata": {
    "collapsed": false
   },
   "outputs": [
    {
     "name": "stdout",
     "output_type": "stream",
     "text": [
      "Architecture: \n",
      "\n",
      "{u'encoder': u'nn.Sequential {\\n  [input -> (1) -> (2) -> output]\\n  (1): nn.LookupTable\\n  (2): nn.LSTM(200 -> 512)\\n}', u'decoder': u'nn.gModule'}\n"
     ]
    }
   ],
   "source": [
    "report_file = 'reports/encdec_200_512_2.json'\n",
    "log_file = 'logs/encdec_200_512_logs.json'\n",
    "\n",
    "import json\n",
    "import matplotlib.pyplot as plt\n",
    "with open(report_file) as f:\n",
    "    report = json.loads(f.read())\n",
    "with open(log_file) as f:\n",
    "    logs = json.loads(f.read())\n",
    "print'Architecture: \\n\\n', report['architecture'],\n"
   ]
  },
  {
   "cell_type": "markdown",
   "metadata": {},
   "source": [
    "### Perplexity on Each Dataset"
   ]
  },
  {
   "cell_type": "code",
   "execution_count": null,
   "metadata": {
    "collapsed": false
   },
   "outputs": [],
   "source": [
    "print('Train Perplexity: ', report['train_perplexity'])\n",
    "print('Valid Perplexity: ', report['valid_perplexity'])\n",
    "print('Test Perplexity: ', report['test_perplexity'])"
   ]
  },
  {
   "cell_type": "markdown",
   "metadata": {},
   "source": [
    "### Loss vs. Epoch"
   ]
  },
  {
   "cell_type": "code",
   "execution_count": null,
   "metadata": {
    "collapsed": false
   },
   "outputs": [],
   "source": [
    "%matplotlib inline\n",
    "for k in logs.keys():\n",
    "    plt.plot(logs[k][0], logs[k][1], label=str(k) + ' (train)')\n",
    "    plt.plot(logs[k][0], logs[k][2], label=str(k) + ' (valid)')\n",
    "plt.title('Loss v. Epoch')\n",
    "plt.xlabel('Epoch')\n",
    "plt.ylabel('Loss')\n",
    "plt.legend()\n",
    "plt.show()"
   ]
  },
  {
   "cell_type": "markdown",
   "metadata": {},
   "source": [
    "### Perplexity vs. Epoch"
   ]
  },
  {
   "cell_type": "code",
   "execution_count": null,
   "metadata": {
    "collapsed": false
   },
   "outputs": [],
   "source": [
    "%matplotlib inline\n",
    "for k in logs.keys():\n",
    "    plt.plot(logs[k][0], logs[k][3], label=str(k) + ' (train)')\n",
    "    plt.plot(logs[k][0], logs[k][4], label=str(k) + ' (valid)')\n",
    "plt.title('Perplexity v. Epoch')\n",
    "plt.xlabel('Epoch')\n",
    "plt.ylabel('Perplexity')\n",
    "plt.legend()\n",
    "plt.show()"
   ]
  },
  {
   "cell_type": "markdown",
   "metadata": {},
   "source": [
    "### Generations"
   ]
  },
  {
   "cell_type": "code",
   "execution_count": null,
   "metadata": {
    "collapsed": false
   },
   "outputs": [],
   "source": [
    "def print_sample(sample):\n",
    "    enc_input = ' '.join([w for w in sample['encoder_input'].split(' ') if w != '<pad>'])\n",
    "    gold = ' '.join([w for w in sample['gold'].split(' ') if w != '<mask>'])\n",
    "    print('Input: '+ enc_input + '\\n')\n",
    "    print('Gend: ' + sample['generated'] + '\\n')\n",
    "    print('True: ' + gold + '\\n')\n",
    "    print('\\n')\n",
    "    "
   ]
  },
  {
   "cell_type": "code",
   "execution_count": null,
   "metadata": {
    "collapsed": false
   },
   "outputs": [],
   "source": [
    "for sample in report['train_samples']:\n",
    "    print_sample(sample)"
   ]
  },
  {
   "cell_type": "code",
   "execution_count": null,
   "metadata": {
    "collapsed": false
   },
   "outputs": [],
   "source": [
    "for sample in report['valid_samples']:\n",
    "    print_sample(sample)"
   ]
  },
  {
   "cell_type": "code",
   "execution_count": null,
   "metadata": {
    "collapsed": false
   },
   "outputs": [],
   "source": [
    "for sample in report['test_samples']:\n",
    "    print_sample(sample)"
   ]
  }
 ],
 "metadata": {
  "kernelspec": {
   "display_name": "Python 2",
   "language": "python",
   "name": "python2"
  },
  "language_info": {
   "codemirror_mode": {
    "name": "ipython",
    "version": 2
   },
   "file_extension": ".py",
   "mimetype": "text/x-python",
   "name": "python",
   "nbconvert_exporter": "python",
   "pygments_lexer": "ipython2",
   "version": "2.7.10"
  }
 },
 "nbformat": 4,
 "nbformat_minor": 1
}
